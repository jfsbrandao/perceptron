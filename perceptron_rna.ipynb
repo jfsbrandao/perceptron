{
 "cells": [
  {
   "cell_type": "code",
   "execution_count": 1,
   "id": "fd49c263",
   "metadata": {},
   "outputs": [],
   "source": [
    "import numpy as np\n",
    "import matplotlib.pyplot as plt\n",
    "import random\n",
    "from prettytable import PrettyTable"
   ]
  },
  {
   "cell_type": "code",
   "execution_count": 2,
   "id": "adf46276",
   "metadata": {},
   "outputs": [
    {
     "name": "stdout",
     "output_type": "stream",
     "text": [
      "(10, 1)\n"
     ]
    }
   ],
   "source": [
    "arr = np.array([[3],[4],[3],[4],[3],[4],[3],[4],[3],[4]])\n",
    "arr.shape\n",
    "arr.reshape(10,-1)\n",
    "print(arr.shape)"
   ]
  },
  {
   "cell_type": "code",
   "execution_count": 3,
   "id": "231ac94a",
   "metadata": {},
   "outputs": [
    {
     "name": "stdout",
     "output_type": "stream",
     "text": [
      "[5 8 9 6 4 2 7 3 0 1]\n",
      "[5 8 9 6 4 2 7 3 0 1]\n"
     ]
    },
    {
     "data": {
      "text/plain": [
       "(10,)"
      ]
     },
     "execution_count": 3,
     "metadata": {},
     "output_type": "execute_result"
    }
   ],
   "source": [
    "arr = np.arange(10)\n",
    "arr.shape\n",
    "np.random.shuffle(arr)\n",
    "print(arr)\n",
    "\n",
    "np.split(arr, [1])\n",
    "print(arr)\n",
    "arr.shape"
   ]
  },
  {
   "cell_type": "code",
   "execution_count": 4,
   "id": "d2c89fe9",
   "metadata": {},
   "outputs": [],
   "source": [
    "class Perceptron:\n",
    "    '''\n",
    "    The Rosenblatt's Perceptron\n",
    "    '''\n",
    "    def __init__(self, data):\n",
    "        # variaveis constantes \n",
    "        self.bias = -1\n",
    "        self.learning_rate = 0.1\n",
    "        self.threshold = 0\n",
    "        \n",
    "        # variaveis proprias dos dados\n",
    "        self.x = np.array([[self.bias,x[0],x[1]] for x in data])\n",
    "        self.labels = np.array([x[2] for x in data])\n",
    "        self.w = np.array(np.random.uniform(-0.5, 0.5, len(self.x[0])))\n",
    "        \n",
    "        # variaveis auxiliares \n",
    "        self.epoch = 1\n",
    "        self.adjustment = 0\n",
    "        \n",
    "        print('Pesos iniciais: ', self.w)\n",
    "\n",
    "    def unit_step(self,u):\n",
    "        return 1 if u>= 0 else 0\n",
    "\n",
    "    def weights_update(self,e,i):\n",
    "        if(e!=0.0):\n",
    "            self.adjustment += 1\n",
    "            self.w = self.w + (self.learning_rate*e*self.x[i])\n",
    "        return self.w\n",
    "\n",
    "    def check_w(self):\n",
    "        _labels = np.zeros(len(self.labels))\n",
    "        for i in range(0, len(self.x)):\n",
    "            _labels[i] = self.unit_step(sum(self.x[i]*self.w))\n",
    "        return np.array_equal(_labels, self.labels)\n",
    "\n",
    "    def learning(self):\n",
    "        for i in range(0, len(self.x)):\n",
    "            u = sum(self.x[i]*self.w)\n",
    "            y = self.unit_step(u)\n",
    "            e = self.labels[i] - y\n",
    "            self.w = self.weights_update(e,i)\n",
    "        self.epoch += 1\n",
    "        #print(f'Fim da epoca {self.epoch} com o vetor de pesos: {self.w}')\n",
    "        if (self.check_w()):\n",
    "            print(f'\\nTotal de ajustes no vetor de pesos: {self.adjustment}')\n",
    "            print(f'Epocas ate a convergencia: {self.epoch}')\n",
    "            return 0\n",
    "        else:\n",
    "            self.learning()\n",
    "            \n",
    "    def learning_2(self):\n",
    "        table = PrettyTable()\n",
    "        table.field_names = [\n",
    "            'Taxa de Aprendizado',\n",
    "            'Intervalo de Pesos',\n",
    "            'Quantidade de Ajustes',\n",
    "            'Menor número de épocas para convergência'\n",
    "        ]\n",
    "        config = np.array([\n",
    "            [0.4,-100,100],\n",
    "            [0.4,-0.5,0.5],\n",
    "            [0.1,-100,100],\n",
    "            [0.1,-0.5,0.5],\n",
    "            [0.01,-100,100],\n",
    "            [0.01,-0.5,0.5]\n",
    "        ])\n",
    "        iterations = 10\n",
    "        for i in range(len(config)):\n",
    "            adjustments = np.zeros(iterations)\n",
    "            min_epoch = np.zeros(iterations)\n",
    "            for j in range(iterations):\n",
    "                # reset das variaveis auxiliares\n",
    "                self.epoch = 1\n",
    "                self.adjustment = 0\n",
    "                \n",
    "                # update dos atributos \n",
    "                self.learning_rate = config[i][0]\n",
    "                self.w = np.array(np.random.uniform(config[i][1], config[i][2], len(self.x[0])))\n",
    "                \n",
    "                # treinamento\n",
    "                self.learning()\n",
    "                \n",
    "                # adiciona nos arrays os outputs do treinamento\n",
    "                adjustments[j] = self.adjustment\n",
    "                min_epoch[j] = self.epoch\n",
    "                \n",
    "                # mostra o grafico do ultimo \n",
    "                if(j==iterations-1):\n",
    "                    self.visualize()\n",
    "            \n",
    "            # quantidade de ajustes \n",
    "            mean_adjustment = np.mean(adjustments)\n",
    "            std_adjustment = np.std(adjustments)\n",
    "            \n",
    "            # menor numero de epoca para convergencia\n",
    "            min_epochs = min(min_epoch)\n",
    "            \n",
    "            # adiciona linha na tabela para cada configuracao\n",
    "            table.add_row([\n",
    "                self.learning_rate,\n",
    "                (config[i][1],config[i][2]),\n",
    "                str(str(round(mean_adjustment,2)) + '±' + str(round(std_adjustment,2))),\n",
    "                min_epochs\n",
    "            ])\n",
    "\n",
    "        print(table)\n",
    "        return 0\n",
    "    \n",
    "    def learning_holdout(self):\n",
    "        '''\n",
    "        Emabaralha e divide o array em dois:\n",
    "            treinamento: 70% \n",
    "            teste: 30%\n",
    "        '''\n",
    "        np.random.shuffle(self.x)\n",
    "        \n",
    "            \n",
    "    def transform_to_color(self,number):\n",
    "        return 'r' if number==0.0 else 'b'\n",
    "    \n",
    "    def visualize(self):\n",
    "        fig, ax = plt.subplots(figsize=(5,5))\n",
    "        \n",
    "        # pontos \n",
    "        xs = [x[1] for x in self.x]\n",
    "        ys = [x[2] for x in self.x]\n",
    "        colors = [self.transform_to_color(x) for x in self.labels]\n",
    "        ax.scatter(xs,ys,c=colors)\n",
    "        \n",
    "        # reta\n",
    "        _min = min(xs) or min(ys)\n",
    "        _max = max(xs) and max(ys)\n",
    "        _x = np.linspace(_min-1,_max+1, 100)\n",
    "        _y = (self.w[0]/self.w[2]) - ((self.w[1]/self.w[2])*_x)\n",
    "        plt.plot(_x,_y,linewidth=3,color='g')\n",
    "        \n",
    "        plt.show()\n",
    "        return 0\n",
    "    \n",
    "    "
   ]
  },
  {
   "cell_type": "markdown",
   "id": "3101b427",
   "metadata": {},
   "source": [
    "# Parte 1 - Linearmente Separável"
   ]
  },
  {
   "cell_type": "code",
   "execution_count": 5,
   "id": "ea2ecd67",
   "metadata": {},
   "outputs": [
    {
     "name": "stdout",
     "output_type": "stream",
     "text": [
      "Pesos iniciais:  [-0.47857088  0.13029904  0.36477188]\n",
      "\n",
      "Total de ajustes no vetor de pesos: 10\n",
      "Epocas ate a convergencia: 8\n"
     ]
    },
    {
     "data": {
      "image/png": "[encoded data removed]",
      "text/plain": [
       "<Figure size 500x500 with 1 Axes>"
      ]
     },
     "metadata": {},
     "output_type": "display_data"
    }
   ],
   "source": [
    "data = np.array([[2,2,1],[4,4,0]]) #self.w = np.array([-0.5441,0.5562,-0.4074])\n",
    "tutorial = Perceptron(data)\n",
    "tutorial.learning()\n",
    "tutorial.visualize();"
   ]
  },
  {
   "cell_type": "code",
   "execution_count": 6,
   "id": "d69d4f83",
   "metadata": {},
   "outputs": [
    {
     "ename": "FileNotFoundError",
     "evalue": "[Errno 2] No such file or directory: './Downloads/dataAll.txt'",
     "output_type": "error",
     "traceback": [
      "\u001b[0;31m---------------------------------------------------------------------------\u001b[0m",
      "\u001b[0;31mFileNotFoundError\u001b[0m                         Traceback (most recent call last)",
      "Cell \u001b[0;32mIn[6], line 1\u001b[0m\n\u001b[0;32m----> 1\u001b[0m dataAll \u001b[39m=\u001b[39m np\u001b[39m.\u001b[39;49mfromfile(\u001b[39m'\u001b[39;49m\u001b[39m./Downloads/dataAll.txt\u001b[39;49m\u001b[39m'\u001b[39;49m)\u001b[39m.\u001b[39mreshape(\u001b[39m-\u001b[39m\u001b[39m1\u001b[39m,\u001b[39m3\u001b[39m)\n\u001b[1;32m      2\u001b[0m _dataAll \u001b[39m=\u001b[39m Perceptron(dataAll)\n\u001b[1;32m      3\u001b[0m _dataAll\u001b[39m.\u001b[39mlearning()\n",
      "\u001b[0;31mFileNotFoundError\u001b[0m: [Errno 2] No such file or directory: './Downloads/dataAll.txt'"
     ]
    }
   ],
   "source": [
    "dataAll = np.fromfile('./Downloads/dataAll.txt').reshape(-1,3)\n",
    "_dataAll = Perceptron(dataAll)\n",
    "_dataAll.learning()\n",
    "_dataAll.visualize();"
   ]
  },
  {
   "cell_type": "markdown",
   "id": "cbb889af",
   "metadata": {},
   "source": [
    "# Parte 2 - Experimentação"
   ]
  },
  {
   "cell_type": "code",
   "execution_count": null,
   "id": "bb88ec4b",
   "metadata": {},
   "outputs": [
    {
     "ename": "",
     "evalue": "",
     "output_type": "error",
     "traceback": [
      "\u001b[1;31mRunning cells with '/bin/python3.11' requires ipykernel package.\n",
      "\u001b[1;31mRun the following command to install 'ipykernel' into the Python environment. \n",
      "\u001b[1;31mCommand: '/bin/python3.11 -m pip install ipykernel -U --user --force-reinstall'"
     ]
    }
   ],
   "source": [
    "data0 = np.fromfile('./Downloads/data0.txt').reshape(-1,3)\n",
    "_data0 = Perceptron(data0)\n",
    "_data0.learning_2();"
   ]
  },
  {
   "cell_type": "markdown",
   "id": "b9952462",
   "metadata": {},
   "source": [
    "# Parte 3 - Validação Holdout em Problema Não-Linearmente Separável"
   ]
  },
  {
   "cell_type": "code",
   "execution_count": null,
   "id": "df423e0f",
   "metadata": {},
   "outputs": [
    {
     "ename": "",
     "evalue": "",
     "output_type": "error",
     "traceback": [
      "\u001b[1;31mRunning cells with '/bin/python3.11' requires ipykernel package.\n",
      "\u001b[1;31mRun the following command to install 'ipykernel' into the Python environment. \n",
      "\u001b[1;31mCommand: '/bin/python3.11 -m pip install ipykernel -U --user --force-reinstall'"
     ]
    }
   ],
   "source": [
    "dataHoldout = np.fromfile('./Downloads/dataHoldout.txt').reshape(-1,3)"
   ]
  },
  {
   "cell_type": "code",
   "execution_count": null,
   "id": "9f2239d2",
   "metadata": {},
   "outputs": [
    {
     "ename": "",
     "evalue": "",
     "output_type": "error",
     "traceback": [
      "\u001b[1;31mRunning cells with '/bin/python3.11' requires ipykernel package.\n",
      "\u001b[1;31mRun the following command to install 'ipykernel' into the Python environment. \n",
      "\u001b[1;31mCommand: '/bin/python3.11 -m pip install ipykernel -U --user --force-reinstall'"
     ]
    }
   ],
   "source": [
    "# Visualizando que nao eh linearmente separavel\n",
    "xs = [x[0] for x in dataHoldout]\n",
    "ys = [x[1] for x in dataHoldout]\n",
    "labels = [x[2] for x in dataHoldout]\n",
    "fig, ax = plt.subplots(figsize=(5,5))\n",
    "ax.scatter(xs,ys,c=labels)\n",
    "plt.show()"
   ]
  },
  {
   "cell_type": "code",
   "execution_count": null,
   "id": "e16c18c9",
   "metadata": {},
   "outputs": [
    {
     "ename": "",
     "evalue": "",
     "output_type": "error",
     "traceback": [
      "\u001b[1;31mRunning cells with '/bin/python3.11' requires ipykernel package.\n",
      "\u001b[1;31mRun the following command to install 'ipykernel' into the Python environment. \n",
      "\u001b[1;31mCommand: '/bin/python3.11 -m pip install ipykernel -U --user --force-reinstall'"
     ]
    }
   ],
   "source": [
    "_dataHoldout = Perceptron(dataHoldout)\n",
    "_dataHoldout.learning()\n",
    "dataHoldout.visualize();"
   ]
  },
  {
   "cell_type": "code",
   "execution_count": null,
   "id": "eaa2f3ed",
   "metadata": {},
   "outputs": [
    {
     "ename": "",
     "evalue": "",
     "output_type": "error",
     "traceback": [
      "\u001b[1;31mRunning cells with '/bin/python3.11' requires ipykernel package.\n",
      "\u001b[1;31mRun the following command to install 'ipykernel' into the Python environment. \n",
      "\u001b[1;31mCommand: '/bin/python3.11 -m pip install ipykernel -U --user --force-reinstall'"
     ]
    }
   ],
   "source": [
    "s = dataHoldout.shape\n",
    "print(s[0]*0.7)\n",
    "print(s[0]*0.3)\n",
    "print(dataHoldout.shape)\n",
    "print(dataHoldout[0])"
   ]
  }
 ],
 "metadata": {
  "kernelspec": {
   "display_name": "env",
   "language": "python",
   "name": "env"
  },
  "language_info": {
   "codemirror_mode": {
    "name": "ipython",
    "version": 3
   },
   "file_extension": ".py",
   "mimetype": "text/x-python",
   "name": "python",
   "nbconvert_exporter": "python",
   "pygments_lexer": "ipython3",
   "version": "3.8.10"
  },
  "vscode": {
   "interpreter": {
    "hash": "ead1b95f633dc9c51826328e1846203f51a198c6fb5f2884a80417ba131d4e82"
   }
  }
 },
 "nbformat": 4,
 "nbformat_minor": 5
}
